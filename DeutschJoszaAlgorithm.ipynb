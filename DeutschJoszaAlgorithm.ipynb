{
 "cells": [
  {
   "cell_type": "markdown",
   "metadata": {},
   "source": [
    "# Set up"
   ]
  },
  {
   "cell_type": "code",
   "execution_count": null,
   "id": "0093a20e-7446-4a12-a125-306417ad7761",
   "metadata": {},
   "outputs": [],
   "source": [
    "!pip list"
   ]
  },
  {
   "cell_type": "markdown",
   "metadata": {},
   "source": [
    "#### Verify that the setup was done correctly"
   ]
  },
  {
   "cell_type": "code",
   "execution_count": 2,
   "id": "26d56113-03b4-4705-89f2-102cff6c7526",
   "metadata": {},
   "outputs": [
    {
     "name": "stdout",
     "output_type": "stream",
     "text": [
      "1.4.2\n"
     ]
    }
   ],
   "source": [
    "import qiskit\n",
    "print(qiskit.__version__)"
   ]
  },
  {
   "cell_type": "markdown",
   "metadata": {},
   "source": [
    "### Setting up the quantum service"
   ]
  },
  {
   "cell_type": "markdown",
   "metadata": {},
   "source": [
    "#### Imports"
   ]
  },
  {
   "cell_type": "code",
   "execution_count": 73,
   "metadata": {},
   "outputs": [],
   "source": [
    "from qiskit import QuantumCircuit, transpile\n",
    "from qiskit_ibm_runtime import QiskitRuntimeService, Estimator, Session"
   ]
  },
  {
   "cell_type": "code",
   "execution_count": null,
   "metadata": {},
   "outputs": [
    {
     "data": {
      "text/plain": [
       "[<IBMBackend('ibm_brisbane')>,\n",
       " <IBMBackend('ibm_kyiv')>,\n",
       " <IBMBackend('ibm_sherbrooke')>]"
      ]
     },
     "execution_count": 7,
     "metadata": {},
     "output_type": "execute_result"
    }
   ],
   "source": []
  },
  {
   "cell_type": "code",
   "execution_count": null,
   "metadata": {},
   "outputs": [
    {
     "name": "stdout",
     "output_type": "stream",
     "text": [
      "Number of Qubits: 127\n"
     ]
    }
   ],
   "source": [
    "backend = service.backend(name=\"ibm_kyiv\")\n",
    "print(f\"Number of Qubits: {backend.num_qubits}\")"
   ]
  },
  {
   "cell_type": "markdown",
   "metadata": {},
   "source": [
    "# Deutsch Josza Algorithm\n",
    "The Deutsch Jpsza Algorithm detemines if a given function $f(x)$ is constant or balanced with a quantum approach\n",
    "Steps:\n",
    "1. Start with state $\\ket{01} = \\ket{0} \\otimes \\ket{1}$\n",
    "1. Apply H-gate transformation H to both bits\n",
    "1. Apply function $f$\n",
    "1. Apply H-tranform to both bits\n",
    "1. Measure the firest bit of the resulting 2-bit state:\n",
    "    * If the first bit is 0, we conclude that function $f$ is constant\n",
    "    * If the first bit is 1, we conclude that function $f$ is not constant\n"
   ]
  },
  {
   "cell_type": "markdown",
   "metadata": {},
   "source": [
    "##### Imports"
   ]
  },
  {
   "cell_type": "code",
   "execution_count": null,
   "metadata": {},
   "outputs": [],
   "source": [
    "import numpy as np\n",
    "import matplotlib.pyplot as plt\n",
    "\n",
    "from qiskit import QuantumCircuit, ClassicalRegister, QuantumRegister\n",
    "from qiskit.primitives import StatevectorSampler\n",
    "from qiskit.visualization import plot_histogram\n",
    "from qiskit.transpiler.preset_passmanagers import generate_preset_pass_manager\n",
    "\n",
    "from qiskit_ibm_runtime import QiskitRuntimeService\n",
    "from qiskit_ibm_runtime import SamplerV2 as Sampler"
   ]
  },
  {
   "cell_type": "code",
   "execution_count": 110,
   "metadata": {},
   "outputs": [],
   "source": [
    "# Set the length of the n-bit string for querying the oracle\n",
    "n = 4"
   ]
  },
  {
   "cell_type": "markdown",
   "metadata": {},
   "source": [
    "#### Oracle (Black Box)\n",
    "The Oracle is the black box in this algorithm that takes an input $x$ and flips the output qubit if $f(x) = 1$.\n",
    "\n",
    "There are 2 types of oracles:\n",
    "1. Constant Oracle: For a constant function (always 0 or always 1), the oracle does nothing if always 0 or applies x gate to output qubit if always 1.\n",
    "1. Balanced Oracle: for a balanced function we can use a CNOT gate controlled by one of the input qubits"
   ]
  },
  {
   "cell_type": "code",
   "execution_count": 77,
   "metadata": {},
   "outputs": [],
   "source": [
    "def create_oracle(n):\n",
    "    a = 0\n",
    "    oracle_type = np.random.randint(\n",
    "        2\n",
    "    )  # Sets the oracle type to be either constant (0) or balanced (1),\n",
    "    oracle_value = np.random.randint(\n",
    "        2\n",
    "    )  # and in the case it's constant, to the value it should return 0 or 1\n",
    "\n",
    "    if oracle_type == 0:\n",
    "        print(f\"The oracle returns a constant value: {oracle_value}\")\n",
    "    else:\n",
    "        print(f\"The oracle returns a balanced function\")\n",
    "        a = np.random.randint(1, 2**n)  # A hidden parameter for the balanced oracle\n",
    "\n",
    "    return (oracle_type, oracle_value, a)"
   ]
  },
  {
   "cell_type": "code",
   "execution_count": 90,
   "metadata": {},
   "outputs": [],
   "source": [
    "def deutsch_josza_algorithm(num_bits) -> QuantumCircuit:\n",
    "    qr = QuantumRegister(\n",
    "        num_bits + 1\n",
    "    )  # n input qubits and one qubit for saving the answer\n",
    "    cr = ClassicalRegister(\n",
    "        num_bits, name=\"result\"\n",
    "    )  # Saves the measurement result on the first bit\n",
    "    circuit_name = \"DeutschJosza\"\n",
    "    dj_qc = QuantumCircuit(qr, cr)\n",
    "\n",
    "    # Create the superposition of all input qubits\n",
    "    for i in range(num_bits):\n",
    "        dj_qc.h(qr[i])\n",
    "\n",
    "    # Flip the second register and apply h-gate\n",
    "    dj_qc.x(qr[num_bits])\n",
    "    dj_qc.h(qr[num_bits])\n",
    "\n",
    "    # Mark the beginning of the oracle\n",
    "    qu_oracle = create_oracle(num_bits)\n",
    "    dj_qc.barrier()\n",
    "    if qu_oracle[0] == 0:\n",
    "        if qu_oracle[1] == 1:\n",
    "            dj_qc.x(qr[num_bits])\n",
    "        else:\n",
    "            dj_qc.id(qr[num_bits])\n",
    "    else:\n",
    "        for i in range(num_bits):\n",
    "            if qu_oracle[2] & (1 << i):\n",
    "                dj_qc.cx(qr[i], qr[num_bits])\n",
    "    # Mark the end of the oracle\n",
    "    dj_qc.barrier()\n",
    "\n",
    "    # Apply H-gate after querying the oracle\n",
    "    for i in range(num_bits):\n",
    "        dj_qc.h(qr[i])\n",
    "\n",
    "    # Measure\n",
    "    for i in range(n):\n",
    "        dj_qc.measure(qr[i], cr[i])\n",
    "\n",
    "    return dj_qc"
   ]
  },
  {
   "cell_type": "code",
   "execution_count": 118,
   "metadata": {},
   "outputs": [
    {
     "name": "stdout",
     "output_type": "stream",
     "text": [
      "The oracle returns a balanced function\n"
     ]
    },
    {
     "data": {
      "image/png": "[encoded data removed]",
      "text/plain": [
       "<Figure size 1085.86x535.111 with 1 Axes>"
      ]
     },
     "execution_count": 118,
     "metadata": {},
     "output_type": "execute_result"
    }
   ],
   "source": [
    "qc = deutsch_josza_algorithm(n)\n",
    "\n",
    "qc.draw('mpl')"
   ]
  },
  {
   "cell_type": "markdown",
   "metadata": {},
   "source": [
    "### Testing on Quantum Computer"
   ]
  },
  {
   "cell_type": "code",
   "execution_count": 120,
   "metadata": {},
   "outputs": [
    {
     "name": "stdout",
     "output_type": "stream",
     "text": [
      "ibm_kyiv\n"
     ]
    }
   ],
   "source": [
    "service = QiskitRuntimeService(\n",
    "    channel=\"ibm_quantum\",\n",
    "    token=\"7821f65d0dd6b850e5efee1028ddc389a6b680756509dd57ee3ce5485f0b7063ef495a3ce96da2ae386537a1734b63fb229452cbdbf7e6146cca3909257b78ab\",\n",
    ")\n",
    "backend = service.least_busy(operational=True, simulator=False)\n",
    "print(backend.name)\n",
    "target = backend.target\n",
    "pm = generate_preset_pass_manager(target=target, optimization_level=3)\n",
    "\n",
    "isa_circuit = pm.run(qc)"
   ]
  },
  {
   "cell_type": "code",
   "execution_count": 121,
   "metadata": {},
   "outputs": [
    {
     "ename": "AttributeError",
     "evalue": "'PrimitiveResult' object has no attribute 'job_id'",
     "output_type": "error",
     "traceback": [
      "\u001b[31m---------------------------------------------------------------------------\u001b[39m",
      "\u001b[31mAttributeError\u001b[39m                            Traceback (most recent call last)",
      "\u001b[36mCell\u001b[39m\u001b[36m \u001b[39m\u001b[32mIn[121]\u001b[39m\u001b[32m, line 3\u001b[39m\n\u001b[32m      1\u001b[39m sampler = Sampler(mode=backend)\n\u001b[32m      2\u001b[39m job = sampler.run([isa_circuit]).result()\n\u001b[32m----> \u001b[39m\u001b[32m3\u001b[39m \u001b[38;5;28mid\u001b[39m = \u001b[43mjob\u001b[49m\u001b[43m.\u001b[49m\u001b[43mjob_id\u001b[49m()\n\u001b[32m      4\u001b[39m \u001b[38;5;28mprint\u001b[39m(\u001b[38;5;28mid\u001b[39m)\n",
      "\u001b[31mAttributeError\u001b[39m: 'PrimitiveResult' object has no attribute 'job_id'"
     ]
    }
   ],
   "source": [
    "sampler = Sampler(mode=backend)\n",
    "job = sampler.run([isa_circuit]).result()\n",
    "id = job.job_id()\n",
    "print(id)"
   ]
  },
  {
   "cell_type": "code",
   "execution_count": null,
   "metadata": {},
   "outputs": [],
   "source": [
    "from qiskit_ibm_runtime import QiskitRuntimeService\n",
    "\n",
    "service = QiskitRuntimeService()\n",
    "job = service.job(id)\n",
    "job_result = job.result()\n",
    "counts = job_result[0].data.res.get_counts()"
   ]
  },
  {
   "cell_type": "code",
   "execution_count": null,
   "metadata": {},
   "outputs": [],
   "source": [
    "threshold = int(0.01 * 1024) # the threshold of plotting significant measurements, 1% of the default number of shots, 1024\n",
    "filteredAnswer = {k: v for k,v in counts.items() if v >= threshold} # filter the answer for better view of plots\n",
    "\n",
    "removedCounts = np.sum([ v for k,v in counts.items() if v < threshold ]) # number of counts removed \n",
    "filteredAnswer['other_bitstrings'] = removedCounts  # the removed counts are assigned to a new index\n",
    "\n",
    "plot_histogram(filteredAnswer)"
   ]
  }
 ],
 "metadata": {
  "kernelspec": {
   "display_name": "qiskit_env",
   "language": "python",
   "name": "python3"
  },
  "language_info": {
   "codemirror_mode": {
    "name": "ipython",
    "version": 3
   },
   "file_extension": ".py",
   "mimetype": "text/x-python",
   "name": "python",
   "nbconvert_exporter": "python",
   "pygments_lexer": "ipython3",
   "version": "3.13.2"
  }
 },
 "nbformat": 4,
 "nbformat_minor": 5
}
