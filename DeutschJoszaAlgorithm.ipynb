{
 "cells": [
  {
   "cell_type": "markdown",
   "metadata": {},
   "source": [
    "# Set up"
   ]
  },
  {
   "cell_type": "code",
   "execution_count": 1,
   "id": "0093a20e-7446-4a12-a125-306417ad7761",
   "metadata": {},
   "outputs": [
    {
     "name": "stdout",
     "output_type": "stream",
     "text": [
      "Package                   Version\n",
      "------------------------- --------------\n",
      "annotated-types           0.7.0\n",
      "anyio                     4.8.0\n",
      "appnope                   0.1.4\n",
      "argon2-cffi               23.1.0\n",
      "argon2-cffi-bindings      21.2.0\n",
      "arrow                     1.3.0\n",
      "asttokens                 3.0.0\n",
      "async-lru                 2.0.4\n",
      "attrs                     25.1.0\n",
      "babel                     2.17.0\n",
      "beautifulsoup4            4.13.3\n",
      "bleach                    6.2.0\n",
      "certifi                   2025.1.31\n",
      "cffi                      1.17.1\n",
      "charset-normalizer        3.4.1\n",
      "comm                      0.2.2\n",
      "contourpy                 1.3.1\n",
      "cryptography              44.0.1\n",
      "cycler                    0.12.1\n",
      "debugpy                   1.8.12\n",
      "decorator                 5.1.1\n",
      "defusedxml                0.7.1\n",
      "dill                      0.3.9\n",
      "executing                 2.2.0\n",
      "fastjsonschema            2.21.1\n",
      "fonttools                 4.56.0\n",
      "fqdn                      1.5.1\n",
      "h11                       0.14.0\n",
      "httpcore                  1.0.7\n",
      "httpx                     0.28.1\n",
      "ibm-cloud-sdk-core        3.22.1\n",
      "ibm-platform-services     0.59.1\n",
      "idna                      3.10\n",
      "ipykernel                 6.29.5\n",
      "ipython                   8.32.0\n",
      "ipywidgets                8.1.5\n",
      "isoduration               20.11.0\n",
      "jedi                      0.19.2\n",
      "Jinja2                    3.1.5\n",
      "json5                     0.10.0\n",
      "jsonpointer               3.0.0\n",
      "jsonschema                4.23.0\n",
      "jsonschema-specifications 2024.10.1\n",
      "jupyter                   1.1.1\n",
      "jupyter_client            8.6.3\n",
      "jupyter-console           6.6.3\n",
      "jupyter_core              5.7.2\n",
      "jupyter-events            0.12.0\n",
      "jupyter-lsp               2.2.5\n",
      "jupyter_server            2.15.0\n",
      "jupyter_server_terminals  0.5.3\n",
      "jupyterlab                4.3.5\n",
      "jupyterlab_pygments       0.3.0\n",
      "jupyterlab_server         2.27.3\n",
      "jupyterlab_widgets        3.0.13\n",
      "kiwisolver                1.4.8\n",
      "MarkupSafe                3.0.2\n",
      "matplotlib                3.10.0\n",
      "matplotlib-inline         0.1.7\n",
      "mistune                   3.1.1\n",
      "mpmath                    1.3.0\n",
      "nbclient                  0.10.2\n",
      "nbconvert                 7.16.6\n",
      "nbformat                  5.10.4\n",
      "nest-asyncio              1.6.0\n",
      "notebook                  7.3.2\n",
      "notebook_shim             0.2.4\n",
      "numpy                     2.2.2\n",
      "overrides                 7.7.0\n",
      "packaging                 24.2\n",
      "pandas                    2.2.3\n",
      "pandocfilters             1.5.1\n",
      "parso                     0.8.4\n",
      "pbr                       6.1.1\n",
      "pexpect                   4.9.0\n",
      "pillow                    11.1.0\n",
      "pip                       25.0.1\n",
      "platformdirs              4.3.6\n",
      "prometheus_client         0.21.1\n",
      "prompt_toolkit            3.0.50\n",
      "psutil                    7.0.0\n",
      "ptyprocess                0.7.0\n",
      "pure_eval                 0.2.3\n",
      "pycparser                 2.22\n",
      "pydantic                  2.9.2\n",
      "pydantic_core             2.23.4\n",
      "pydot                     3.0.4\n",
      "Pygments                  2.19.1\n",
      "PyJWT                     2.10.1\n",
      "pylatexenc                2.10\n",
      "pyparsing                 3.2.1\n",
      "pyspnego                  0.11.2\n",
      "python-dateutil           2.9.0.post0\n",
      "python-json-logger        3.2.1\n",
      "pytz                      2025.1\n",
      "PyYAML                    6.0.2\n",
      "pyzmq                     26.2.1\n",
      "qiskit                    1.3.2\n",
      "qiskit-aer                0.16.1\n",
      "qiskit-ibm-runtime        0.35.0\n",
      "referencing               0.36.2\n",
      "requests                  2.32.3\n",
      "requests_ntlm             1.3.0\n",
      "rfc3339-validator         0.1.4\n",
      "rfc3986-validator         0.1.1\n",
      "rpds-py                   0.22.3\n",
      "rustworkx                 0.16.0\n",
      "scipy                     1.15.1\n",
      "seaborn                   0.13.2\n",
      "Send2Trash                1.8.3\n",
      "setuptools                75.8.0\n",
      "six                       1.17.0\n",
      "sniffio                   1.3.1\n",
      "soupsieve                 2.6\n",
      "stack-data                0.6.3\n",
      "stevedore                 5.4.0\n",
      "symengine                 0.13.0\n",
      "sympy                     1.13.3\n",
      "terminado                 0.18.1\n",
      "tinycss2                  1.4.0\n",
      "tornado                   6.4.2\n",
      "traitlets                 5.14.3\n",
      "types-python-dateutil     2.9.0.20241206\n",
      "typing_extensions         4.12.2\n",
      "tzdata                    2025.1\n",
      "uri-template              1.3.0\n",
      "urllib3                   2.3.0\n",
      "wcwidth                   0.2.13\n",
      "webcolors                 24.11.1\n",
      "webencodings              0.5.1\n",
      "websocket-client          1.8.0\n",
      "widgetsnbextension        4.0.13\n"
     ]
    }
   ],
   "source": [
    "!pip list"
   ]
  },
  {
   "cell_type": "markdown",
   "metadata": {},
   "source": [
    "#### Verify that the setup was done correctly"
   ]
  },
  {
   "cell_type": "code",
   "execution_count": 2,
   "id": "26d56113-03b4-4705-89f2-102cff6c7526",
   "metadata": {},
   "outputs": [
    {
     "name": "stdout",
     "output_type": "stream",
     "text": [
      "1.3.2\n"
     ]
    }
   ],
   "source": [
    "import qiskit\n",
    "print(qiskit.__version__)"
   ]
  },
  {
   "cell_type": "markdown",
   "metadata": {},
   "source": [
    "### Setting up the quantum service"
   ]
  },
  {
   "cell_type": "markdown",
   "metadata": {},
   "source": [
    "#### Imports"
   ]
  },
  {
   "cell_type": "code",
   "execution_count": 20,
   "metadata": {},
   "outputs": [],
   "source": [
    "from qiskit import QuantumCircuit, transpile\n",
    "from qiskit_ibm_runtime import QiskitRuntimeService, Estimator, Session"
   ]
  },
  {
   "cell_type": "markdown",
   "metadata": {},
   "source": [
    "# Deutsch Josza Algorithm\n",
    "The Deutsch Jpsza Algorithm detemines if a given function $f(x)$ is constant or balanced with a quantum approach\n",
    "Steps:\n",
    "1. Start with state $\\ket{01} = \\ket{0} \\otimes \\ket{1}$\n",
    "1. Apply H-gate transformation H to both bits\n",
    "1. Apply function $f$\n",
    "1. Apply H-tranform to both bits\n",
    "1. Measure the firest bit of the resulting 2-bit state:\n",
    "    * If the first bit is 0, we conclude that function $f$ is constant\n",
    "    * If the first bit is 1, we conclude that function $f$ is not constant\n"
   ]
  },
  {
   "cell_type": "markdown",
   "metadata": {},
   "source": [
    "##### Imports"
   ]
  },
  {
   "cell_type": "code",
   "execution_count": 13,
   "metadata": {},
   "outputs": [],
   "source": [
    "import numpy as np\n",
    "import matplotlib.pyplot as plt\n",
    "\n",
    "from qiskit import QuantumCircuit, ClassicalRegister, QuantumRegister\n",
    "from qiskit.primitives import StatevectorSampler\n",
    "from qiskit.visualization import plot_histogram\n",
    "from qiskit.transpiler.preset_passmanagers import generate_preset_pass_manager\n",
    "\n",
    "from qiskit_ibm_runtime import QiskitRuntimeService\n",
    "from qiskit_ibm_runtime import SamplerV2 as Sampler"
   ]
  },
  {
   "cell_type": "code",
   "execution_count": 14,
   "metadata": {},
   "outputs": [],
   "source": [
    "# Set the length of the n-bit string for querying the oracle\n",
    "n = 4"
   ]
  },
  {
   "cell_type": "markdown",
   "metadata": {},
   "source": [
    "#### Oracle (Black Box)\n",
    "The Oracle is the black box in this algorithm that takes an input $x$ and flips the output qubit if $f(x) = 1$.\n",
    "\n",
    "There are 2 types of oracles:\n",
    "1. Constant Oracle: For a constant function (always 0 or always 1), the oracle does nothing if always 0 or applies x gate to output qubit if always 1.\n",
    "1. Balanced Oracle: for a balanced function we can use a CNOT gate controlled by one of the input qubits"
   ]
  },
  {
   "cell_type": "code",
   "execution_count": 11,
   "metadata": {},
   "outputs": [],
   "source": [
    "def create_oracle(n):\n",
    "    a = 0\n",
    "    oracle_type = np.random.randint(\n",
    "        2\n",
    "    )  # Sets the oracle type to be either constant (0) or balanced (1),\n",
    "    oracle_value = np.random.randint(\n",
    "        2\n",
    "    )  # and in the case it's constant, to the value it should return 0 or 1\n",
    "\n",
    "    if oracle_type == 0:\n",
    "        print(f\"The oracle returns a constant value: {oracle_value}\")\n",
    "    else:\n",
    "        print(f\"The oracle returns a balanced function\")\n",
    "        a = np.random.randint(1, 2**n)  # A hidden parameter for the balanced oracle\n",
    "\n",
    "    return (oracle_type, oracle_value, a)"
   ]
  },
  {
   "cell_type": "code",
   "execution_count": 15,
   "metadata": {},
   "outputs": [],
   "source": [
    "def deutsch_josza_algorithm(num_bits) -> QuantumCircuit:\n",
    "    qr = QuantumRegister(\n",
    "        num_bits + 1\n",
    "    )  # n input qubits and one qubit for saving the answer\n",
    "    cr = ClassicalRegister(\n",
    "        num_bits, name=\"result\"\n",
    "    )  # Saves the measurement result on the first bit\n",
    "    circuit_name = \"DeutschJosza\"\n",
    "    dj_qc = QuantumCircuit(qr, cr)\n",
    "\n",
    "    # Create the superposition of all input qubits\n",
    "    for i in range(num_bits):\n",
    "        dj_qc.h(qr[i])\n",
    "\n",
    "    # Flip the second register and apply h-gate\n",
    "    dj_qc.x(qr[num_bits])\n",
    "    dj_qc.h(qr[num_bits])\n",
    "\n",
    "    # Mark the beginning of the oracle\n",
    "    qu_oracle = create_oracle(num_bits)\n",
    "    dj_qc.barrier()\n",
    "    if qu_oracle[0] == 0:\n",
    "        if qu_oracle[1] == 1:\n",
    "            dj_qc.x(qr[num_bits])\n",
    "        else:\n",
    "            dj_qc.id(qr[num_bits])\n",
    "    else:\n",
    "        for i in range(num_bits):\n",
    "            if qu_oracle[2] & (1 << i):\n",
    "                dj_qc.cx(qr[i], qr[num_bits])\n",
    "    # Mark the end of the oracle\n",
    "    dj_qc.barrier()\n",
    "\n",
    "    # Apply H-gate after querying the oracle\n",
    "    for i in range(num_bits):\n",
    "        dj_qc.h(qr[i])\n",
    "\n",
    "    # Measure\n",
    "    for i in range(num_bits):\n",
    "        dj_qc.measure(qr[i], cr[i])\n",
    "\n",
    "    return dj_qc"
   ]
  },
  {
   "cell_type": "code",
   "execution_count": 16,
   "metadata": {},
   "outputs": [
    {
     "name": "stdout",
     "output_type": "stream",
     "text": [
      "The oracle returns a constant value: 1\n"
     ]
    },
    {
     "data": {
      "image/png": "[encoded data removed]",
      "text/plain": [
       "<Figure size 1002.25x535.111 with 1 Axes>"
      ]
     },
     "execution_count": 16,
     "metadata": {},
     "output_type": "execute_result"
    }
   ],
   "source": [
    "qc = deutsch_josza_algorithm(n)\n",
    "\n",
    "qc.draw('mpl')"
   ]
  },
  {
   "cell_type": "markdown",
   "metadata": {},
   "source": [
    "### Testing on Quantum Computer"
   ]
  },
  {
   "cell_type": "code",
   "execution_count": 17,
   "metadata": {},
   "outputs": [
    {
     "name": "stdout",
     "output_type": "stream",
     "text": [
      "ibm_kyiv\n"
     ]
    }
   ],
   "source": [
    "service = QiskitRuntimeService(\n",
    "    channel=\"ibm_quantum\",\n",
    "    token=\"7821f65d0dd6b850e5efee1028ddc389a6b680756509dd57ee3ce5485f0b7063ef495a3ce96da2ae386537a1734b63fb229452cbdbf7e6146cca3909257b78ab\",\n",
    ")\n",
    "backend = service.backend(\"ibm_kyiv\")\n",
    "print(backend.name)\n",
    "target = backend.target\n",
    "pm = generate_preset_pass_manager(target=target, optimization_level=3)\n",
    "\n",
    "isa_circuit = pm.run(qc)"
   ]
  },
  {
   "cell_type": "code",
   "execution_count": 18,
   "metadata": {},
   "outputs": [],
   "source": [
    "sampler = Sampler(mode=backend)\n",
    "job = sampler.run([isa_circuit])\n",
    "# id = job.job_id()\n",
    "# print(id)"
   ]
  },
  {
   "cell_type": "code",
   "execution_count": 50,
   "metadata": {},
   "outputs": [
    {
     "name": "stdout",
     "output_type": "stream",
     "text": [
      "Number of Qubits: 127\n"
     ]
    },
    {
     "data": {
      "text/plain": [
       "<bound method RuntimeJobV2.result of <RuntimeJobV2('cznnn8xqw630008tqjh0', 'sampler')>>"
      ]
     },
     "execution_count": 50,
     "metadata": {},
     "output_type": "execute_result"
    }
   ],
   "source": [
    "\n",
    "backend = service.backend(name=\"ibm_kyiv\")\n",
    "print(f\"Number of Qubits: {backend.num_qubits}\")\n",
    "job = service.job(job_id='cznnn8xqw630008tqjh0')\n",
    "job_result = job.result\n"
   ]
  },
  {
   "cell_type": "markdown",
   "id": "e305a392",
   "metadata": {},
   "source": [
    "### Simulator"
   ]
  },
  {
   "cell_type": "code",
   "execution_count": 29,
   "id": "e0ab364a",
   "metadata": {},
   "outputs": [],
   "source": [
    "from qiskit import transpile\n",
    "from qiskit_aer import Aer, AerSimulator, StatevectorSimulator"
   ]
  },
  {
   "cell_type": "code",
   "execution_count": 27,
   "id": "a474bde4",
   "metadata": {},
   "outputs": [],
   "source": [
    "sim_backend = AerSimulator()\n",
    "transpiled_circuit = transpile(qc, sim_backend)\n",
    "\n",
    "sim_job = sim_backend.run(transpiled_circuit, shots=4096)\n",
    "counts = sim_job.result().get_counts()"
   ]
  },
  {
   "cell_type": "code",
   "execution_count": 31,
   "id": "3bd5ed98",
   "metadata": {},
   "outputs": [
    {
     "name": "stdout",
     "output_type": "stream",
     "text": [
      "{'0000': 4096}\n"
     ]
    },
    {
     "data": {
      "image/png": "[encoded data removed]",
      "text/plain": [
       "<Figure size 640x480 with 1 Axes>"
      ]
     },
     "execution_count": 31,
     "metadata": {},
     "output_type": "execute_result"
    }
   ],
   "source": [
    "print(counts)\n",
    "plot_histogram(counts)"
   ]
  },
  {
   "cell_type": "code",
   "execution_count": null,
   "id": "72d53682",
   "metadata": {},
   "outputs": [],
   "source": [
    "sv_circuit = deutsch_josza_algorithm(n)\n",
    "sv_sim = StatevectorSimulator()\n",
    "trans_sv = transpile(sv_circuit, sv_sim)\n",
    "\n",
    "svresult = sv_sim.run(trans_sv).result()"
   ]
  }
 ],
 "metadata": {
  "kernelspec": {
   "display_name": "qiskit_env",
   "language": "python",
   "name": "python3"
  },
  "language_info": {
   "codemirror_mode": {
    "name": "ipython",
    "version": 3
   },
   "file_extension": ".py",
   "mimetype": "text/x-python",
   "name": "python",
   "nbconvert_exporter": "python",
   "pygments_lexer": "ipython3",
   "version": "3.13.1"
  }
 },
 "nbformat": 4,
 "nbformat_minor": 5
}
